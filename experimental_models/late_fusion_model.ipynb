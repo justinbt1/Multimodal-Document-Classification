{
 "cells": [
  {
   "cell_type": "markdown",
   "metadata": {},
   "source": [
    "## Late Fusion Multi-Modal Classifier"
   ]
  },
  {
   "cell_type": "code",
   "execution_count": 1,
   "metadata": {},
   "outputs": [],
   "source": [
    "import numpy as np\n",
    "from collections import Counter\n",
    "import pandas as pd\n",
    "import os\n",
    "import PIL\n",
    "import sklearn\n",
    "import pickle\n",
    "from sklearn import model_selection, metrics\n",
    "from matplotlib import pyplot as plt\n",
    "import tensorflow\n",
    "from tensorflow import keras"
   ]
  },
  {
   "cell_type": "code",
   "execution_count": 2,
   "metadata": {},
   "outputs": [],
   "source": [
    "from utils import data_utils, model_utils, models"
   ]
  },
  {
   "cell_type": "markdown",
   "metadata": {},
   "source": [
    "#### Data Loading and Pre-processing"
   ]
  },
  {
   "cell_type": "code",
   "execution_count": 3,
   "metadata": {},
   "outputs": [],
   "source": [
    "label_map = label_map = {\n",
    "    'geol_geow': 0, \n",
    "    'geol_sed': 1, \n",
    "    'gphys_gen': 2, \n",
    "    'log_sum': 3, \n",
    "    'pre_site': 4, \n",
    "    'vsp_file': 5\n",
    "}"
   ]
  },
  {
   "cell_type": "code",
   "execution_count": 4,
   "metadata": {},
   "outputs": [],
   "source": [
    "doc_data = data_utils.DocumentData(label_map, 2020, drop_nans='or')"
   ]
  },
  {
   "cell_type": "code",
   "execution_count": 5,
   "metadata": {},
   "outputs": [
    {
     "data": {
      "text/plain": [
       "(4177, 2000)"
      ]
     },
     "execution_count": 5,
     "metadata": {},
     "output_type": "execute_result"
    }
   ],
   "source": [
    "doc_data.load_text_data()\n",
    "doc_data.text_train.shape"
   ]
  },
  {
   "cell_type": "code",
   "execution_count": 6,
   "metadata": {},
   "outputs": [
    {
     "data": {
      "text/plain": [
       "(4177, 10, 200, 200, 1)"
      ]
     },
     "execution_count": 6,
     "metadata": {},
     "output_type": "execute_result"
    }
   ],
   "source": [
    "doc_data.load_image_data(image_size=200, n_pages=10)\n",
    "doc_data.image_train.shape"
   ]
  },
  {
   "cell_type": "markdown",
   "metadata": {},
   "source": [
    "#### Late Fusion image C-LSTM & text CNN Classifier"
   ]
  },
  {
   "cell_type": "markdown",
   "metadata": {},
   "source": [
    "Text feature extraction & classification:"
   ]
  },
  {
   "cell_type": "code",
   "execution_count": 27,
   "metadata": {},
   "outputs": [],
   "source": [
    "text_input = keras.layers.Input(shape=2000)\n",
    "embeddings = keras.layers.Embedding(doc_data.vocab_length, 150, input_length=2000)(text_input)\n",
    "conv_1d = keras.layers.Conv1D(filters=200, kernel_size=7, activation='relu')(embeddings)\n",
    "global_pooling = keras.layers.GlobalMaxPool1D()(conv_1d)\n",
    "flatten = keras.layers.Flatten()(global_pooling)\n",
    "dense_layer = keras.layers.Dense(50, activation='relu', kernel_regularizer=keras.regularizers.l2(0.5))(flatten)\n",
    "text_features = keras.layers.Dropout(0.3)(dense_layer)"
   ]
  },
  {
   "cell_type": "markdown",
   "metadata": {},
   "source": [
    "Image feature extraction & classification:"
   ]
  },
  {
   "cell_type": "code",
   "execution_count": 28,
   "metadata": {},
   "outputs": [],
   "source": [
    "image_input = keras.layers.Input(shape=(10, 200, 200, 1))\n",
    "conv_2d_1 = keras.layers.TimeDistributed(keras.layers.Conv2D(20, 7, activation='relu', padding='same'))(image_input)\n",
    "pool_2d_1 = keras.layers.TimeDistributed(keras.layers.MaxPooling2D(4))(conv_2d_1)\n",
    "conv_2d_2 = keras.layers.TimeDistributed(keras.layers.Conv2D(50, 5, activation='relu', padding='valid'))(pool_2d_1)\n",
    "pool_2d_2 = keras.layers.TimeDistributed(keras.layers.MaxPooling2D(4))(conv_2d_2)\n",
    "extracted_features = keras.layers.TimeDistributed(keras.layers.Flatten())(pool_2d_2)\n",
    "lstm_1 = keras.layers.LSTM(1000, return_sequences=True)(extracted_features)\n",
    "image_features = keras.layers.LSTM(1000, dropout=0.5)(lstm_1)"
   ]
  },
  {
   "cell_type": "markdown",
   "metadata": {},
   "source": [
    "Softmax classification layer:"
   ]
  },
  {
   "cell_type": "code",
   "execution_count": 29,
   "metadata": {},
   "outputs": [],
   "source": [
    "concat_features = keras.layers.concatenate([text_features, image_features])\n",
    "output = keras.layers.Dense(6, activation='softmax')(concat_features)"
   ]
  },
  {
   "cell_type": "markdown",
   "metadata": {},
   "source": [
    "Build and compile model:"
   ]
  },
  {
   "cell_type": "code",
   "execution_count": 30,
   "metadata": {},
   "outputs": [],
   "source": [
    "model = keras.models.Model(inputs=[text_input, image_input], outputs=[output])\n",
    "model.compile(optimizer='adam', loss='categorical_crossentropy', metrics=['accuracy'])"
   ]
  },
  {
   "cell_type": "code",
   "execution_count": 31,
   "metadata": {},
   "outputs": [
    {
     "name": "stdout",
     "output_type": "stream",
     "text": [
      "Model: \"functional_5\"\n",
      "__________________________________________________________________________________________________\n",
      "Layer (type)                    Output Shape         Param #     Connected to                     \n",
      "==================================================================================================\n",
      "input_6 (InputLayer)            [(None, 10, 200, 200 0                                            \n",
      "__________________________________________________________________________________________________\n",
      "input_5 (InputLayer)            [(None, 2000)]       0                                            \n",
      "__________________________________________________________________________________________________\n",
      "time_distributed_10 (TimeDistri (None, 10, 200, 200, 1000        input_6[0][0]                    \n",
      "__________________________________________________________________________________________________\n",
      "embedding_2 (Embedding)         (None, 2000, 150)    23451000    input_5[0][0]                    \n",
      "__________________________________________________________________________________________________\n",
      "time_distributed_11 (TimeDistri (None, 10, 50, 50, 2 0           time_distributed_10[0][0]        \n",
      "__________________________________________________________________________________________________\n",
      "conv1d_2 (Conv1D)               (None, 1994, 200)    210200      embedding_2[0][0]                \n",
      "__________________________________________________________________________________________________\n",
      "time_distributed_12 (TimeDistri (None, 10, 46, 46, 5 25050       time_distributed_11[0][0]        \n",
      "__________________________________________________________________________________________________\n",
      "global_max_pooling1d_2 (GlobalM (None, 200)          0           conv1d_2[0][0]                   \n",
      "__________________________________________________________________________________________________\n",
      "time_distributed_13 (TimeDistri (None, 10, 11, 11, 5 0           time_distributed_12[0][0]        \n",
      "__________________________________________________________________________________________________\n",
      "flatten_4 (Flatten)             (None, 200)          0           global_max_pooling1d_2[0][0]     \n",
      "__________________________________________________________________________________________________\n",
      "time_distributed_14 (TimeDistri (None, 10, 6050)     0           time_distributed_13[0][0]        \n",
      "__________________________________________________________________________________________________\n",
      "dense_7 (Dense)                 (None, 50)           10050       flatten_4[0][0]                  \n",
      "__________________________________________________________________________________________________\n",
      "lstm_4 (LSTM)                   (None, 10, 1000)     28204000    time_distributed_14[0][0]        \n",
      "__________________________________________________________________________________________________\n",
      "dropout_2 (Dropout)             (None, 50)           0           dense_7[0][0]                    \n",
      "__________________________________________________________________________________________________\n",
      "lstm_5 (LSTM)                   (None, 1000)         8004000     lstm_4[0][0]                     \n",
      "__________________________________________________________________________________________________\n",
      "concatenate_3 (Concatenate)     (None, 1050)         0           dropout_2[0][0]                  \n",
      "                                                                 lstm_5[0][0]                     \n",
      "__________________________________________________________________________________________________\n",
      "dense_8 (Dense)                 (None, 6)            6306        concatenate_3[0][0]              \n",
      "==================================================================================================\n",
      "Total params: 59,911,606\n",
      "Trainable params: 59,911,606\n",
      "Non-trainable params: 0\n",
      "__________________________________________________________________________________________________\n"
     ]
    }
   ],
   "source": [
    "model.summary()"
   ]
  },
  {
   "cell_type": "markdown",
   "metadata": {},
   "source": [
    "Train and evaluate model:"
   ]
  },
  {
   "cell_type": "code",
   "execution_count": 33,
   "metadata": {},
   "outputs": [],
   "source": [
    "early_stopping = keras.callbacks.EarlyStopping(monitor='val_loss', patience=2, mode='min', restore_best_weights=True)"
   ]
  },
  {
   "cell_type": "code",
   "execution_count": 34,
   "metadata": {},
   "outputs": [
    {
     "name": "stdout",
     "output_type": "stream",
     "text": [
      "Epoch 1/400\n",
      "131/131 [==============================] - 64s 490ms/step - loss: 14.7319 - accuracy: 0.3641 - val_loss: 2.9980 - val_accuracy: 0.5158\n",
      "Epoch 2/400\n",
      "131/131 [==============================] - 46s 353ms/step - loss: 1.5110 - accuracy: 0.6284 - val_loss: 1.0338 - val_accuracy: 0.6622\n",
      "Epoch 3/400\n",
      "131/131 [==============================] - 44s 336ms/step - loss: 0.7835 - accuracy: 0.7577 - val_loss: 0.7939 - val_accuracy: 0.7455\n",
      "Epoch 4/400\n",
      "131/131 [==============================] - 44s 336ms/step - loss: 0.6135 - accuracy: 0.8260 - val_loss: 0.7645 - val_accuracy: 0.7589\n",
      "Epoch 5/400\n",
      "131/131 [==============================] - 44s 335ms/step - loss: 0.5405 - accuracy: 0.8434 - val_loss: 0.7100 - val_accuracy: 0.7694\n",
      "Epoch 6/400\n",
      "131/131 [==============================] - 44s 336ms/step - loss: 0.4665 - accuracy: 0.8638 - val_loss: 0.7897 - val_accuracy: 0.7560\n",
      "Epoch 7/400\n",
      "131/131 [==============================] - 44s 334ms/step - loss: 0.4198 - accuracy: 0.8801 - val_loss: 0.7047 - val_accuracy: 0.7751\n",
      "Epoch 8/400\n",
      "131/131 [==============================] - 44s 333ms/step - loss: 0.4048 - accuracy: 0.8918 - val_loss: 0.7758 - val_accuracy: 0.7799\n",
      "Epoch 9/400\n",
      "131/131 [==============================] - 44s 333ms/step - loss: 0.3780 - accuracy: 0.9033 - val_loss: 0.7674 - val_accuracy: 0.7703\n"
     ]
    }
   ],
   "source": [
    "history = model.fit(\n",
    "    [doc_data.text_train, doc_data.image_train], \n",
    "    doc_data.y_train, \n",
    "    epochs=400, \n",
    "    validation_data=([doc_data.text_val, doc_data.image_val], doc_data.y_val), \n",
    "    callbacks=[early_stopping]\n",
    ")"
   ]
  },
  {
   "cell_type": "code",
   "execution_count": 35,
   "metadata": {},
   "outputs": [
    {
     "name": "stdout",
     "output_type": "stream",
     "text": [
      "41/41 [==============================] - 4s 98ms/step - loss: 0.6548 - accuracy: 0.7971\n"
     ]
    },
    {
     "data": {
      "text/plain": [
       "[0.654849112033844, 0.7970903515815735]"
      ]
     },
     "execution_count": 35,
     "metadata": {},
     "output_type": "execute_result"
    }
   ],
   "source": [
    "model.evaluate([doc_data.text_test, doc_data.image_test], doc_data.y_test)"
   ]
  },
  {
   "cell_type": "code",
   "execution_count": 37,
   "metadata": {},
   "outputs": [],
   "source": [
    "y_hat = model.predict([doc_data.text_test, doc_data.image_test])"
   ]
  },
  {
   "cell_type": "code",
   "execution_count": 38,
   "metadata": {},
   "outputs": [],
   "source": [
    "y = np.argmax(doc_data.y_test, axis=-1)"
   ]
  },
  {
   "cell_type": "code",
   "execution_count": 40,
   "metadata": {},
   "outputs": [],
   "source": [
    "y_hat = np.argmax(y_hat, axis=-1)"
   ]
  },
  {
   "cell_type": "code",
   "execution_count": 41,
   "metadata": {},
   "outputs": [
    {
     "name": "stdout",
     "output_type": "stream",
     "text": [
      "              precision    recall  f1-score   support\n",
      "\n",
      "   geol_geow       0.83      0.80      0.82       322\n",
      "    geol_sed       0.90      0.77      0.83       203\n",
      "   gphys_gen       0.74      0.82      0.78       208\n",
      "     log_sum       0.59      0.79      0.67       208\n",
      "    pre_site       0.93      0.78      0.85       231\n",
      "    vsp_file       0.97      0.82      0.89       134\n",
      "\n",
      "    accuracy                           0.80      1306\n",
      "   macro avg       0.83      0.80      0.81      1306\n",
      "weighted avg       0.82      0.80      0.80      1306\n",
      "\n"
     ]
    }
   ],
   "source": [
    "labels = [label for label in label_map]\n",
    "print(metrics.classification_report(y, y_hat, target_names=labels))"
   ]
  },
  {
   "cell_type": "code",
   "execution_count": 32,
   "metadata": {},
   "outputs": [
    {
     "data": {
      "image/png": "[encoded data removed]",
      "text/plain": [
       "<IPython.core.display.Image object>"
      ]
     },
     "execution_count": 32,
     "metadata": {},
     "output_type": "execute_result"
    }
   ],
   "source": [
    "keras.utils.plot_model(model, show_layer_names=False)"
   ]
  },
  {
   "cell_type": "code",
   "execution_count": null,
   "metadata": {},
   "outputs": [],
   "source": []
  }
 ],
 "metadata": {
  "kernelspec": {
   "display_name": "msc",
   "language": "python",
   "name": "msc"
  },
  "language_info": {
   "codemirror_mode": {
    "name": "ipython",
    "version": 3
   },
   "file_extension": ".py",
   "mimetype": "text/x-python",
   "name": "python",
   "nbconvert_exporter": "python",
   "pygments_lexer": "ipython3",
   "version": "3.8.10"
  }
 },
 "nbformat": 4,
 "nbformat_minor": 4
}
