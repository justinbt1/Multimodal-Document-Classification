{
 "cells": [
  {
   "cell_type": "markdown",
   "metadata": {},
   "source": [
    "## Early Fusion Multi-Modal Classifier "
   ]
  },
  {
   "cell_type": "code",
   "execution_count": 1,
   "metadata": {},
   "outputs": [],
   "source": [
    "import numpy as np\n",
    "from collections import Counter\n",
    "import pandas as pd\n",
    "import os\n",
    "import PIL\n",
    "import sklearn\n",
    "import pickle\n",
    "from sklearn import model_selection, metrics\n",
    "from matplotlib import pyplot as plt\n",
    "import tensorflow\n",
    "from tensorflow import keras"
   ]
  },
  {
   "cell_type": "code",
   "execution_count": null,
   "metadata": {},
   "outputs": [],
   "source": [
    "from utils import data_utils, model_utils, models"
   ]
  },
  {
   "cell_type": "markdown",
   "metadata": {},
   "source": [
    "#### Data Loading and Pre-processing"
   ]
  },
  {
   "cell_type": "code",
   "execution_count": null,
   "metadata": {},
   "outputs": [],
   "source": [
    "label_map = label_map = {\n",
    "    'geol_geow': 0, \n",
    "    'geol_sed': 1, \n",
    "    'gphys_gen': 2, \n",
    "    'log_sum': 3, \n",
    "    'pre_site': 4, \n",
    "    'vsp_file': 5\n",
    "}"
   ]
  },
  {
   "cell_type": "code",
   "execution_count": 16,
   "metadata": {},
   "outputs": [],
   "source": [
    "doc_data = data_utils.DocumentData(label_map, 2020, drop_nans='or')"
   ]
  },
  {
   "cell_type": "code",
   "execution_count": 18,
   "metadata": {},
   "outputs": [
    {
     "data": {
      "text/plain": [
       "(4177, 2000)"
      ]
     },
     "execution_count": 18,
     "metadata": {},
     "output_type": "execute_result"
    }
   ],
   "source": [
    "doc_data.load_text_data()\n",
    "doc_data.text_train.shape"
   ]
  },
  {
   "cell_type": "code",
   "execution_count": 21,
   "metadata": {},
   "outputs": [
    {
     "data": {
      "text/plain": [
       "(4177, 10, 200, 200, 1)"
      ]
     },
     "execution_count": 21,
     "metadata": {},
     "output_type": "execute_result"
    }
   ],
   "source": [
    "doc_data.load_image_data(image_size=200, n_pages=10)\n",
    "doc_data.image_train.shape"
   ]
  },
  {
   "cell_type": "code",
   "execution_count": 22,
   "metadata": {},
   "outputs": [],
   "source": [
    "text_train = np.array([np.array([text] * 10) for text in doc_data.text_train])\n",
    "text_val = np.array([np.array([text] * 10) for text in doc_data.text_val])\n",
    "text_test = np.array([np.array([text] * 10) for text in doc_data.text_test])"
   ]
  },
  {
   "cell_type": "markdown",
   "metadata": {},
   "source": [
    "#### Early Fusion C-LSTM Classifier"
   ]
  },
  {
   "cell_type": "markdown",
   "metadata": {},
   "source": [
    "Text modality feature extraction:"
   ]
  },
  {
   "cell_type": "code",
   "execution_count": 77,
   "metadata": {},
   "outputs": [],
   "source": [
    "text_input = keras.layers.Input(shape=(10, 2000), name='text_input')\n",
    "embeddings = keras.layers.TimeDistributed(keras.layers.Embedding(doc_data.vocab_length, 150, input_length=2000), name='word_embeddings')(text_input)\n",
    "conv_1d = keras.layers.TimeDistributed(keras.layers.Conv1D(filters=200, kernel_size=7, activation='relu'), name='1d_convolutional_layer')(embeddings)\n",
    "global_pooling = keras.layers.TimeDistributed(keras.layers.GlobalMaxPool1D(), name='max_pooling_layer')(conv_1d)\n",
    "image_features = keras.layers.TimeDistributed(keras.layers.Flatten(), name='text_features')(global_pooling)"
   ]
  },
  {
   "cell_type": "markdown",
   "metadata": {},
   "source": [
    "Image modality feature extraction:"
   ]
  },
  {
   "cell_type": "code",
   "execution_count": 78,
   "metadata": {},
   "outputs": [],
   "source": [
    "image_input = keras.layers.Input(shape=(10, 200, 200, 1), name='image_input')\n",
    "conv_2d_1 = keras.layers.TimeDistributed(keras.layers.Conv2D(20, 7, activation='relu', padding='same'), name='2d_convolutional_layer_1')(image_input)\n",
    "pool_2d_1 = keras.layers.TimeDistributed(keras.layers.MaxPooling2D(4), name='2d_max_pooling_layer_1')(conv_2d_1)\n",
    "conv_2d_2 = keras.layers.TimeDistributed(keras.layers.Conv2D(50, 5, activation='relu', padding='valid'), name='2d_convolutional_layer_2')(pool_2d_1)\n",
    "pool_2d_2 = keras.layers.TimeDistributed(keras.layers.MaxPooling2D(4), name='2d_max_pooling_layer_2')(conv_2d_2)\n",
    "text_features = keras.layers.TimeDistributed(keras.layers.Flatten(), name='image_features')(pool_2d_2)"
   ]
  },
  {
   "cell_type": "markdown",
   "metadata": {},
   "source": [
    "Joint feature representation:"
   ]
  },
  {
   "cell_type": "code",
   "execution_count": 79,
   "metadata": {},
   "outputs": [],
   "source": [
    "joint_features = keras.layers.concatenate([text_features, image_features])"
   ]
  },
  {
   "cell_type": "markdown",
   "metadata": {},
   "source": [
    "Classifier layers:"
   ]
  },
  {
   "cell_type": "code",
   "execution_count": 80,
   "metadata": {},
   "outputs": [],
   "source": [
    "lstm_1 = keras.layers.LSTM(450, return_sequences=True)(joint_features)\n",
    "lstm_2 = keras.layers.LSTM(1000)(lstm_1)\n",
    "dropout = keras.layers.Dropout(0.5)(lstm_2)\n",
    "output = keras.layers.Dense(6, activation='softmax')(dropout)"
   ]
  },
  {
   "cell_type": "markdown",
   "metadata": {},
   "source": [
    "Build and compile model:"
   ]
  },
  {
   "cell_type": "code",
   "execution_count": 81,
   "metadata": {},
   "outputs": [],
   "source": [
    "model = keras.models.Model(inputs=[text_input, image_input], outputs=[output])\n",
    "model.compile(optimizer='adam', loss='categorical_crossentropy', metrics=['accuracy'])"
   ]
  },
  {
   "cell_type": "code",
   "execution_count": 82,
   "metadata": {},
   "outputs": [
    {
     "name": "stdout",
     "output_type": "stream",
     "text": [
      "Model: \"functional_14\"\n",
      "__________________________________________________________________________________________________\n",
      "Layer (type)                    Output Shape         Param #     Connected to                     \n",
      "==================================================================================================\n",
      "image_input (InputLayer)        [(None, 10, 200, 200 0                                            \n",
      "__________________________________________________________________________________________________\n",
      "2d_convolutional_layer_1 (TimeD (None, 10, 200, 200, 1000        image_input[0][0]                \n",
      "__________________________________________________________________________________________________\n",
      "text_input (InputLayer)         [(None, 10, 2000)]   0                                            \n",
      "__________________________________________________________________________________________________\n",
      "2d_max_pooling_layer_1 (TimeDis (None, 10, 50, 50, 2 0           2d_convolutional_layer_1[0][0]   \n",
      "__________________________________________________________________________________________________\n",
      "word_embeddings (TimeDistribute (None, 10, 2000, 150 23451000    text_input[0][0]                 \n",
      "__________________________________________________________________________________________________\n",
      "2d_convolutional_layer_2 (TimeD (None, 10, 46, 46, 5 25050       2d_max_pooling_layer_1[0][0]     \n",
      "__________________________________________________________________________________________________\n",
      "1d_convolutional_layer (TimeDis (None, 10, 1994, 200 210200      word_embeddings[0][0]            \n",
      "__________________________________________________________________________________________________\n",
      "2d_max_pooling_layer_2 (TimeDis (None, 10, 11, 11, 5 0           2d_convolutional_layer_2[0][0]   \n",
      "__________________________________________________________________________________________________\n",
      "max_pooling_layer (TimeDistribu (None, 10, 200)      0           1d_convolutional_layer[0][0]     \n",
      "__________________________________________________________________________________________________\n",
      "image_features (TimeDistributed (None, 10, 6050)     0           2d_max_pooling_layer_2[0][0]     \n",
      "__________________________________________________________________________________________________\n",
      "text_features (TimeDistributed) (None, 10, 200)      0           max_pooling_layer[0][0]          \n",
      "__________________________________________________________________________________________________\n",
      "concatenate_6 (Concatenate)     (None, 10, 6250)     0           image_features[0][0]             \n",
      "                                                                 text_features[0][0]              \n",
      "__________________________________________________________________________________________________\n",
      "lstm_14 (LSTM)                  (None, 10, 450)      12061800    concatenate_6[0][0]              \n",
      "__________________________________________________________________________________________________\n",
      "lstm_15 (LSTM)                  (None, 1000)         5804000     lstm_14[0][0]                    \n",
      "__________________________________________________________________________________________________\n",
      "dropout_9 (Dropout)             (None, 1000)         0           lstm_15[0][0]                    \n",
      "__________________________________________________________________________________________________\n",
      "dense_9 (Dense)                 (None, 6)            6006        dropout_9[0][0]                  \n",
      "==================================================================================================\n",
      "Total params: 41,559,056\n",
      "Trainable params: 41,559,056\n",
      "Non-trainable params: 0\n",
      "__________________________________________________________________________________________________\n"
     ]
    }
   ],
   "source": [
    "model.summary()"
   ]
  },
  {
   "cell_type": "markdown",
   "metadata": {},
   "source": [
    "Train and evaluate model:"
   ]
  },
  {
   "cell_type": "code",
   "execution_count": 83,
   "metadata": {},
   "outputs": [],
   "source": [
    "early_stopping = keras.callbacks.EarlyStopping(monitor='val_loss', patience=2, mode='min', restore_best_weights=True)"
   ]
  },
  {
   "cell_type": "code",
   "execution_count": 84,
   "metadata": {},
   "outputs": [
    {
     "name": "stdout",
     "output_type": "stream",
     "text": [
      "Epoch 1/400\n",
      "131/131 [==============================] - 140s 1s/step - loss: 1.3085 - accuracy: 0.4814 - val_loss: 0.8034 - val_accuracy: 0.7091\n",
      "Epoch 2/400\n",
      "131/131 [==============================] - 122s 933ms/step - loss: 0.6202 - accuracy: 0.7711 - val_loss: 0.6621 - val_accuracy: 0.7560\n",
      "Epoch 3/400\n",
      "131/131 [==============================] - 122s 933ms/step - loss: 0.3708 - accuracy: 0.8738 - val_loss: 0.6844 - val_accuracy: 0.7675\n",
      "Epoch 4/400\n",
      "131/131 [==============================] - 116s 885ms/step - loss: 0.2695 - accuracy: 0.9131 - val_loss: 0.6955 - val_accuracy: 0.7656\n"
     ]
    }
   ],
   "source": [
    "history = model.fit(\n",
    "    [text_train, doc_data.image_train], \n",
    "    doc_data.y_train, \n",
    "    epochs=400, \n",
    "    validation_data=([text_val, doc_data.image_val], doc_data.y_val), \n",
    "    callbacks=[early_stopping]\n",
    ")"
   ]
  },
  {
   "cell_type": "code",
   "execution_count": 57,
   "metadata": {},
   "outputs": [
    {
     "name": "stdout",
     "output_type": "stream",
     "text": [
      "41/41 [==============================] - 13s 316ms/step - loss: 0.6578 - accuracy: 0.7818\n"
     ]
    },
    {
     "data": {
      "text/plain": [
       "[0.6578467488288879, 0.7817764282226562]"
      ]
     },
     "execution_count": 57,
     "metadata": {},
     "output_type": "execute_result"
    }
   ],
   "source": [
    "model.evaluate([text_test, doc_data.image_test], doc_data.y_test)"
   ]
  },
  {
   "cell_type": "code",
   "execution_count": null,
   "metadata": {},
   "outputs": [],
   "source": [
    "y_hat = model.predict([text_test, doc_data.image_test])"
   ]
  },
  {
   "cell_type": "code",
   "execution_count": null,
   "metadata": {},
   "outputs": [],
   "source": [
    "y = np.argmax(doc_data.y_test, axis=-1)"
   ]
  },
  {
   "cell_type": "code",
   "execution_count": null,
   "metadata": {},
   "outputs": [],
   "source": [
    "labels = [label for label in label_map]\n",
    "print(metrics.classification_report(y, y_hat, target_names=labels))"
   ]
  },
  {
   "cell_type": "code",
   "execution_count": 67,
   "metadata": {},
   "outputs": [
    {
     "data": {
      "image/png": "[encoded data removed]",
      "text/plain": [
       "<IPython.core.display.Image object>"
      ]
     },
     "execution_count": 67,
     "metadata": {},
     "output_type": "execute_result"
    }
   ],
   "source": [
    "keras.utils.plot_model(model, show_layer_names=False)"
   ]
  },
  {
   "cell_type": "code",
   "execution_count": null,
   "metadata": {},
   "outputs": [],
   "source": []
  }
 ],
 "metadata": {
  "kernelspec": {
   "display_name": "msc",
   "language": "python",
   "name": "msc"
  },
  "language_info": {
   "codemirror_mode": {
    "name": "ipython",
    "version": 3
   },
   "file_extension": ".py",
   "mimetype": "text/x-python",
   "name": "python",
   "nbconvert_exporter": "python",
   "pygments_lexer": "ipython3",
   "version": "3.8.10"
  }
 },
 "nbformat": 4,
 "nbformat_minor": 4
}
